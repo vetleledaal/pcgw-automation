{
 "cells": [
  {
   "cell_type": "code",
   "execution_count": 1,
   "metadata": {},
   "outputs": [],
   "source": [
    "headers = {\n",
    "    'User-Agent': 'VetleBot/0.1'\n",
    "}\n",
    "\n",
    "import re\n",
    "PATTERN_PAGE_LINK = re.compile(r'^(?:<ul>)?<li><a href=\"\\/wiki\\/[^\"]+\" title=\"[^\"]+\">([^<]+)<\\/a><\\/li>', re.MULTILINE)\n",
    "PATTERN_NEXT_PAGE = re.compile(r'<a href=\"([^\"]+)\"[^>]*>Next page')"
   ]
  },
  {
   "cell_type": "code",
   "execution_count": 21,
   "metadata": {},
   "outputs": [],
   "source": [
    "# Get the first list of pages\n",
    "import requests\n",
    "# Note: only *that* namespace\n",
    "r = requests.get('https://pcgamingwiki.com/wiki/Special:AllPages?from=&to=&namespace=402', headers=headers)\n",
    "done_processing = False\n",
    "all_pages = []\n",
    "\n",
    "import html\n",
    "while done_processing is False:\n",
    "    # Extract pages from list of pages\n",
    "    pages = re.findall(PATTERN_PAGE_LINK, r.text)\n",
    "\n",
    "    # Clean HTML entities\n",
    "    pages = [html.unescape(page) for page in pages]\n",
    "    \n",
    "    # Append pages found to list\n",
    "    all_pages += pages\n",
    "    done_processing = True\n",
    "\n",
    "    # Get the next list of pages page, if it exists\n",
    "    m = re.search(PATTERN_NEXT_PAGE, r.text)\n",
    "    if m is not None:\n",
    "        # Clean it\n",
    "        url = html.unescape(m.group(1))\n",
    "        \n",
    "        # Add prefix, if needed\n",
    "        url = 'https://pcgamingwiki.com' + url if url[0] == '/' else url\n",
    "        \n",
    "        # Make request\n",
    "        r = requests.get(url, headers=headers)\n",
    "        done_processing = False"
   ]
  },
  {
   "cell_type": "code",
   "execution_count": 22,
   "metadata": {},
   "outputs": [
    {
     "data": {
      "text/plain": [
       "2293"
      ]
     },
     "execution_count": 22,
     "metadata": {},
     "output_type": "execute_result"
    }
   ],
   "source": [
    "len(all_pages)"
   ]
  },
  {
   "cell_type": "raw",
   "metadata": {},
   "source": [
    "import pickle\n",
    "pickle.dump(all_pages, open('../data_pcgw/all_pages_main.p', 'wb'))"
   ]
  },
  {
   "cell_type": "code",
   "execution_count": 5,
   "metadata": {},
   "outputs": [],
   "source": [
    "# Make unique\n",
    "all_pages = list(set(all_pages))\n",
    "all_pages.sort() # for predictability"
   ]
  },
  {
   "cell_type": "code",
   "execution_count": 7,
   "metadata": {},
   "outputs": [
    {
     "name": "stdout",
     "output_type": "stream",
     "text": [
      "34770\n"
     ]
    }
   ],
   "source": [
    "print(len(all_pages))\n",
    "all_images = {}"
   ]
  },
  {
   "cell_type": "code",
   "execution_count": 24,
   "metadata": {},
   "outputs": [
    {
     "data": {
      "text/plain": [
       "'Series:101 Dalmatians'"
      ]
     },
     "execution_count": 24,
     "metadata": {},
     "output_type": "execute_result"
    }
   ],
   "source": [
    "all_pages[1]"
   ]
  },
  {
   "cell_type": "code",
   "execution_count": 23,
   "metadata": {},
   "outputs": [
    {
     "name": "stdout",
     "output_type": "stream",
     "text": [
      "{\"batchcomplete\":\"\",\"purge\":[{\"ns\":402,\"title\":\"Series:XIII Century\",\"purged\":\"\"},{\"ns\":402,\"title\":\"Series:XOXO Droplets\",\"purged\":\"\"},{\"ns\":402,\"title\":\"Series:XXZ\",\"purged\":\"\"},{\"ns\":402,\"title\":\"Series:Xanadu\",\"purged\":\"\"},{\"ns\":402,\"title\":\"Series:Xenon\",\"purged\":\"\"},{\"ns\":402,\"title\":\"Series:Xenonauts\",\"purged\":\"\"},{\"ns\":402,\"title\":\"Series:Xenus\",\"purged\":\"\"},{\"ns\":402,\"title\":\"Series:Xmas Zombie Rampage\",\"purged\":\"\"},{\"ns\":402,\"title\":\"Series:Xpand Rally\",\"purged\":\"\"},{\"ns\":402,\"title\":\"Series:Xploquest\",\"purged\":\"\"},{\"ns\":402,\"title\":\"Series:Yakuza\",\"purged\":\"\"},{\"ns\":402,\"title\":\"Series:Yesterday\",\"purged\":\"\"},{\"ns\":402,\"title\":\"Series:Yet Another Zombie Defense\",\"purged\":\"\"},{\"ns\":402,\"title\":\"Series:Yomawari\",\"purged\":\"\"},{\"ns\":402,\"title\":\"Series:You Don't Know Jack\",\"purged\":\"\"},{\"ns\":402,\"title\":\"Series:You Have 10 Seconds\",\"purged\":\"\"},{\"ns\":402,\"title\":\"Series:Ys\",\"purged\":\"\"},{\"ns\":402,\"title\":\"Series:Yu-Gi-Oh!\",\"purged\":\"\"},{\"ns\":402,\"title\":\"Series:Yume Nikki\",\"purged\":\"\"},{\"ns\":402,\"title\":\"Series:Yumsters\",\"purged\":\"\"},{\"ns\":402,\"title\":\"Series:Yuzi Lims\",\"purged\":\"\"},{\"ns\":402,\"title\":\"Series:Z\",\"purged\":\"\"},{\"ns\":402,\"title\":\"Series:Zafehouse Diaries\",\"purged\":\"\"},{\"ns\":402,\"title\":\"Series:Zeno Clash\",\"purged\":\"\"},{\"ns\":402,\"title\":\"Series:Zero Escape\",\"purged\":\"\"},{\"ns\":402,\"title\":\"Series:Zipple World\",\"purged\":\"\"},{\"ns\":402,\"title\":\"Series:Zombie Derby\",\"purged\":\"\"},{\"ns\":402,\"title\":\"Series:Zombie Driver\",\"purged\":\"\"},{\"ns\":402,\"title\":\"Series:Zombie Exodus\",\"purged\":\"\"},{\"ns\":402,\"title\":\"Series:Zombie Murder\",\"purged\":\"\"},{\"ns\":402,\"title\":\"Series:Zombie Panic!\",\"purged\":\"\"},{\"ns\":402,\"title\":\"Series:Zombie Shooter\",\"purged\":\"\"},{\"ns\":402,\"title\":\"Series:Zombie Solitaire\",\"purged\":\"\"},{\"ns\":402,\"title\":\"Series:Zombie Vikings\",\"purged\":\"\"},{\"ns\":402,\"title\":\"Series:Zombitatos\",\"purged\":\"\"},{\"ns\":402,\"title\":\"Series:Zoo Empire\",\"purged\":\"\"},{\"ns\":402,\"title\":\"Series:Zoo Tycoon\",\"purged\":\"\"},{\"ns\":402,\"title\":\"Series:Zoombinis\",\"purged\":\"\"},{\"ns\":402,\"title\":\"Series:Zork\",\"purged\":\"\"},{\"ns\":402,\"title\":\"Series:Zuma\",\"purged\":\"\"},{\"ns\":402,\"title\":\"Series:Zup!\",\"purged\":\"\"},{\"ns\":402,\"title\":\"Series:Zwei\",\"purged\":\"\"},{\"ns\":402,\"title\":\"Series:\\u00dcberSoldier\",\"purged\":\"\"}]}46/46eries:Wrack\",\"purged\":\"\"},{\"ns\":402,\"title\":\"Series:Wrestling Revolution\",\"purged\":\"\"},{\"ns\":402,\"title\":\"Series:Wrestling Spirit\",\"purged\":\"\"},{\"ns\":402,\"title\":\"Series:Wurm\",\"purged\":\"\"},{\"ns\":402,\"title\":\"Series:Wyatt Derp\",\"purged\":\"\"},{\"ns\":402,\"title\":\"Series:X\",\"purged\":\"\"},{\"ns\":402,\"title\":\"Series:X-COM\",\"purged\":\"\"},{\"ns\":402,\"title\":\"Series:X-Men\",\"purged\":\"\"},{\"ns\":402,\"title\":\"Series:X-Plane\",\"purged\":\"\"},{\"ns\":402,\"title\":\"Series:XIII\",\"purged\":\"\"}]}45/46es:WhiTaers\",\"purged\":\"\"}]}44/46urged\":\"\"}]}41/46or Achievements\",\"purged\":\"\"},{\"ns\":402,\"title\":\"Series:The Race for the White House\",\"purged\":\"\"},{\"ns\":402,\"title\":\"Series:The Raven\",\"purged\":\"\"},{\"ns\":402,\"title\":\"Series:The Revenge of Johnny Bonasera\",\"purged\":\"\"}]}40/46\r"
     ]
    }
   ],
   "source": [
    "# for every 50, purge it\n",
    "import math\n",
    "batch_size = 50\n",
    "batches = math.ceil(len(all_pages) / batch_size)\n",
    "\n",
    "export_dir = '../data_pcgw'\n",
    "\n",
    "import os\n",
    "if not os.path.exists(export_dir):\n",
    "    os.makedirs(export_dir)\n",
    "\n",
    "import json\n",
    "for i in range(batches):\n",
    "    if i < 1:\n",
    "        continue\n",
    "    pages = all_pages[i * batch_size : i * batch_size + batch_size]\n",
    "    pages_comb = '|'.join(pages)\n",
    "    data = {\n",
    "        'action': 'purge',\n",
    "        'titles': pages_comb,\n",
    "        'format': 'json',\n",
    "    }\n",
    "    r = requests.post('https://pcgamingwiki.com/w/api.php', headers=headers, data=data)\n",
    "    print(f'{i + 1}/{batches}', end='\\r')"
   ]
  }
 ],
 "metadata": {
  "kernelspec": {
   "display_name": "Python 3",
   "language": "python",
   "name": "python3"
  },
  "language_info": {
   "codemirror_mode": {
    "name": "ipython",
    "version": 3
   },
   "file_extension": ".py",
   "mimetype": "text/x-python",
   "name": "python",
   "nbconvert_exporter": "python",
   "pygments_lexer": "ipython3",
   "version": "3.7.2"
  }
 },
 "nbformat": 4,
 "nbformat_minor": 2
}
