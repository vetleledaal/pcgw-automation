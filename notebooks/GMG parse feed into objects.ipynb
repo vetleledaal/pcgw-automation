{
 "cells": [
  {
   "cell_type": "code",
   "execution_count": 1,
   "metadata": {},
   "outputs": [],
   "source": [
    "import xml.etree.ElementTree as ET\n",
    "import re\n",
    "GMG_ID_PATTERN = re.compile(r'/games/([\\w.-]+)/')\n",
    "products = {}\n",
    "\n",
    "# https://community.pcgamingwiki.com/topic/2038-green-man-gaming-feeds/\n",
    "# > https://s3.amazonaws.com/gmg-epilive/US%20Dollar.xml\n",
    "# > https://s3.amazonaws.com/gmg-epilive/Sterling.xml\n",
    "# > https://s3.amazonaws.com/gmg-epilive/Euro.xml\n",
    "regions = {\n",
    "    'USD': 'US Dollar.xml',\n",
    "    'GBP': 'Sterling.xml',\n",
    "    'EUR': 'Euro.xml',\n",
    "}\n",
    "\n",
    "for region_code, region_file in regions.items():\n",
    "    region_file = '../data_gmg/' + region_file\n",
    "    tree = ET.parse(region_file)\n",
    "    root = tree.getroot()\n",
    "    for product in root:\n",
    "        data = {\n",
    "            'id': None,\n",
    "            'name': None,\n",
    "            'developer': None,\n",
    "            'publisher': None,\n",
    "            'drm': None,\n",
    "            'steam_id': None,\n",
    "            'regions': [region_code],\n",
    "        }\n",
    "\n",
    "        for product_info in product:\n",
    "            if product_info.tag == 'deep_link':\n",
    "                m = re.search(GMG_ID_PATTERN, product_info.text)\n",
    "                data['id'] = m.group(1) if m is not None else None\n",
    "            elif product_info.tag == 'product_name':\n",
    "                data['name'] = product_info.text\n",
    "            elif product_info.tag == 'manufacturer':\n",
    "                data['developer'] = product_info.text\n",
    "            elif product_info.tag == 'brand':\n",
    "                data['publisher'] = product_info.text\n",
    "            elif product_info.tag == 'drm':\n",
    "                data['drm'] = product_info.text\n",
    "            elif product_info.tag == 'steamapp_id':\n",
    "                data['steam_id'] = product_info.text if product_info.text != '0' else None\n",
    "        \n",
    "        data_old = products.get(data['id'])\n",
    "        if data_old is not None:\n",
    "            if data['name'] != data_old['name'] or \\\n",
    "               data['developer'] != data_old['developer'] or \\\n",
    "               data['publisher'] != data_old['publisher'] or \\\n",
    "               data['drm'] != data_old['drm'] or \\\n",
    "               data['steam_id'] != data_old['steam_id']:\n",
    "                print('OwO, something went horribly wrong')\n",
    "                print(product)\n",
    "            data['regions'] = data_old['regions'] + data['regions']\n",
    "        products[data['id']] = data"
   ]
  },
  {
   "cell_type": "code",
   "execution_count": 2,
   "metadata": {},
   "outputs": [],
   "source": [
    "import pickle\n",
    "pickle.dump(products, open('../data_gmg/gmg_feed_products.p', 'wb'))"
   ]
  },
  {
   "cell_type": "code",
   "execution_count": 3,
   "metadata": {},
   "outputs": [
    {
     "data": {
      "text/plain": [
       "{1: 36, 2: 20, 3: 6208}"
      ]
     },
     "execution_count": 3,
     "metadata": {},
     "output_type": "execute_result"
    }
   ],
   "source": [
    "region_stats = {1: 0, 2: 0, 3: 0}\n",
    "for product in products.values():\n",
    "    region_stats[len(product['regions'])] += 1\n",
    "region_stats"
   ]
  }
 ],
 "metadata": {
  "kernelspec": {
   "display_name": "Python 3",
   "language": "python",
   "name": "python3"
  },
  "language_info": {
   "codemirror_mode": {
    "name": "ipython",
    "version": 3
   },
   "file_extension": ".py",
   "mimetype": "text/x-python",
   "name": "python",
   "nbconvert_exporter": "python",
   "pygments_lexer": "ipython3",
   "version": "3.7.2"
  }
 },
 "nbformat": 4,
 "nbformat_minor": 2
}
