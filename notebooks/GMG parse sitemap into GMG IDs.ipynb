{
 "cells": [
  {
   "cell_type": "code",
   "execution_count": 1,
   "metadata": {},
   "outputs": [],
   "source": [
    "import xml.etree.ElementTree as ET\n",
    "# https://www.greenmangaming.com/robots.txt\n",
    "# > Sitemap: https://www.greenmangaming.com/Sitemap.xml\n",
    "tree = ET.parse('../data_gmg/Sitemap.xml')\n",
    "root = tree.getroot()\n",
    "ns = {'sitemap': 'http://www.sitemaps.org/schemas/sitemap/0.9'}\n"
   ]
  },
  {
   "cell_type": "code",
   "execution_count": 2,
   "metadata": {},
   "outputs": [],
   "source": [
    "urls = [loc.text for loc in (url.find('sitemap:loc', ns) for url in root) if loc is not None]"
   ]
  },
  {
   "cell_type": "code",
   "execution_count": 3,
   "metadata": {},
   "outputs": [
    {
     "data": {
      "text/plain": [
       "10585"
      ]
     },
     "execution_count": 3,
     "metadata": {},
     "output_type": "execute_result"
    }
   ],
   "source": [
    "len(urls)"
   ]
  },
  {
   "cell_type": "code",
   "execution_count": 4,
   "metadata": {},
   "outputs": [],
   "source": [
    "import re\n",
    "GMG_ID_PATTERN = re.compile(r'/games/([\\w.-]+)/')\n",
    "gmg_ids = list(set(m.group(1) for m in (re.search(GMG_ID_PATTERN, url) for url in urls) if m))"
   ]
  },
  {
   "cell_type": "code",
   "execution_count": 5,
   "metadata": {},
   "outputs": [
    {
     "data": {
      "text/plain": [
       "7555"
      ]
     },
     "execution_count": 5,
     "metadata": {},
     "output_type": "execute_result"
    }
   ],
   "source": [
    "len(gmg_ids)"
   ]
  },
  {
   "cell_type": "code",
   "execution_count": 6,
   "metadata": {},
   "outputs": [],
   "source": [
    "#import pickle\n",
    "#pickle.dump(gmg_ids, open('gmg_sitemap_ids.p', 'wb'))"
   ]
  },
  {
   "cell_type": "code",
   "execution_count": 7,
   "metadata": {},
   "outputs": [],
   "source": [
    "wrong = []\n",
    "for url in urls:\n",
    "    if re.search(GMG_ID_PATTERN, url) is None:\n",
    "        wrong.append(url)"
   ]
  },
  {
   "cell_type": "code",
   "execution_count": 8,
   "metadata": {},
   "outputs": [
    {
     "data": {
      "text/plain": [
       "['https://www.greenmangaming.com/',\n",
       " 'https://www.greenmangaming.com/de/',\n",
       " 'https://www.greenmangaming.com/es/',\n",
       " 'https://www.greenmangaming.com/pt/',\n",
       " 'https://www.greenmangaming.com/games-hub/game-guides/wolfenstein-ii-the-new-colossus/editions-you-can-buy/',\n",
       " 'https://www.greenmangaming.com/games-hub/game-guides/wolfenstein-ii-the-new-colossus/release-date-system-requirements-dlcs/',\n",
       " 'https://www.greenmangaming.com/games-hub/game-guides/wolfenstein-ii-the-new-colossus/characters-in-the-new-colossus/',\n",
       " 'https://www.greenmangaming.com/games-hub/game-guides/wolfenstein-ii-the-new-colossus/enemies-and-villains-of-the-new-colossus/',\n",
       " 'https://www.greenmangaming.com/games-hub/game-guides/wolfenstein-ii-the-new-colossus/the-story-behind-the-new-colossus/',\n",
       " 'https://www.greenmangaming.com/games-hub/game-guides/wolfenstein-ii-the-new-colossus/perks-guide/',\n",
       " 'https://www.greenmangaming.com/games-hub/game-guides/wolfenstein-ii-the-new-colossus/new-features-in-the-new-colossus/',\n",
       " 'https://www.greenmangaming.com/games-hub/game-guides/wolfenstein-ii-the-new-colossus/looking-back-at-the-wolfenstein-franchise/',\n",
       " 'https://www.greenmangaming.com/games-hub/game-guides/assassins-creed-origins/release-date-system-requirements-dlcs/',\n",
       " 'https://www.greenmangaming.com/games-hub/game-guides/assassins-creed-origins/editions-on-sale/',\n",
       " 'https://www.greenmangaming.com/games-hub/game-guides/assassins-creed-origins/new-features-in-origins/',\n",
       " 'https://www.greenmangaming.com/games-hub/game-guides/assassins-creed-origins/characters-and-story/',\n",
       " 'https://www.greenmangaming.com/gsdrhtfdguf/nicky/test/test/',\n",
       " 'https://www.greenmangaming.com/gsdrhtfdguf/nicky/test/view-all/',\n",
       " 'https://www.greenmangaming.com/gsdrhtfdguf/nicky/test/view-all2/',\n",
       " 'https://www.greenmangaming.com/gsdrhtfdguf/nicky/test/jkhdsbjksdkbvfs/']"
      ]
     },
     "execution_count": 8,
     "metadata": {},
     "output_type": "execute_result"
    }
   ],
   "source": [
    "wrong[:20]"
   ]
  }
 ],
 "metadata": {
  "kernelspec": {
   "display_name": "Python 3",
   "language": "python",
   "name": "python3"
  },
  "language_info": {
   "codemirror_mode": {
    "name": "ipython",
    "version": 3
   },
   "file_extension": ".py",
   "mimetype": "text/x-python",
   "name": "python",
   "nbconvert_exporter": "python",
   "pygments_lexer": "ipython3",
   "version": "3.7.2"
  }
 },
 "nbformat": 4,
 "nbformat_minor": 2
}
