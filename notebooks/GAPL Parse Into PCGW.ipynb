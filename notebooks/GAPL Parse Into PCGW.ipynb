{
 "cells": [
  {
   "cell_type": "code",
   "execution_count": 38,
   "metadata": {},
   "outputs": [],
   "source": [
    "import xml.etree.ElementTree as ET\n",
    "import re\n",
    "import pickle\n",
    "import os\n",
    "\n",
    "os.environ['PYWIKIBOT2_DIR'] = '../private/'\n",
    "import pywikibot\n",
    "import json\n",
    "import logging\n",
    "\n",
    "\n",
    "from collections import namedtuple\n",
    "WikiGame = namedtuple('WikiGame', ('name', 'gapl_id', 'drm', 'steam_id', 'win', 'osx', 'lin'))\n",
    "SteamID = namedtuple('SteamID', ('type', 'id'), defaults=(None, None))\n",
    "\n",
    "def parse_gapl_data():\n",
    "    \n",
    "    gapl_data = []\n",
    "    \n",
    "    tree = ET.parse('../data_gapl/feed.xml')\n",
    "    products = tree.getroot()\n",
    "    \n",
    "    for product in products:\n",
    "        # Steam ID can exist regardless of delivery type\n",
    "        gapl_steam_id = product.find('steam_id').text\n",
    "        \n",
    "        try:\n",
    "            steam_id = SteamID(*gapl_steam_id.split('/'))\n",
    "        except (ValueError, AttributeError):\n",
    "            # Ignore bare Steam IDs as we don't know their type\n",
    "            steam_id = SteamID()\n",
    "        \n",
    "        if steam_id.type == 'app':\n",
    "            pass\n",
    "        elif steam_id.type == 'sub':\n",
    "            pass\n",
    "        elif steam_id.type == 'bundle':\n",
    "            pass\n",
    "\n",
    "        # DRM can be (in order of occurences):\n",
    "        # steam, uplay, origin, download, rockstarsocial, zenimax,\n",
    "        # bethesdanet, giants, external, battlenet, arenanet, gog\n",
    "        gapl_drm = product.find('delivery_type').text\n",
    "\n",
    "        if gapl_drm == 'steam':\n",
    "            drm = 'Steam'\n",
    "        elif gapl_drm == 'uplay':\n",
    "            drm = 'Uplay'\n",
    "        elif gapl_drm == 'origin':\n",
    "            drm = 'Origin'\n",
    "        elif gapl_drm == 'bethesdanet':\n",
    "            drm = 'Bethesda.net'\n",
    "        elif gapl_drm == 'battlenet':\n",
    "            drm = 'Battle.net'\n",
    "        elif gapl_drm == 'gog':\n",
    "            drm = 'GOG.com'\n",
    "        else:\n",
    "            # download, rockstarsocial, zenimax, giants, external, arenanet, ++\n",
    "            drm = 'Unknown'\n",
    "        \n",
    "        platforms = product.find('platforms')\n",
    "        win = platforms.find('pc').text == 'true'\n",
    "        osx = platforms.find('mac').text == 'true'\n",
    "        lin = platforms.find('linux').text == 'true'\n",
    "        \n",
    "        gapl_data.append(WikiGame(\n",
    "            product.find('name').text,\n",
    "            product.find('uid').text,\n",
    "            drm,\n",
    "            steam_id,\n",
    "            win,\n",
    "            osx,\n",
    "            lin            \n",
    "        ))\n",
    "    return gapl_data\n",
    "\n",
    "        \n",
    "data = parse_gapl_data()"
   ]
  },
  {
   "cell_type": "code",
   "execution_count": 40,
   "metadata": {},
   "outputs": [
    {
     "data": {
      "text/plain": [
       "[WikiGame(name='Styx: Master of Shadows', gapl_id='2681-1', drm='Steam', steam_id=SteamID(type='app', id='242640'), win=True, osx=False, lin=False),\n",
       " WikiGame(name='Total War: MEDIEVAL II – Definitive Edition', gapl_id='1427-1', drm='Steam', steam_id=SteamID(type='app', id='4700'), win=True, osx=False, lin=False),\n",
       " WikiGame(name='Borderlands: The Pre-Sequel (Mac)', gapl_id='2680-1', drm='Steam', steam_id=SteamID(type='app', id='261640'), win=False, osx=True, lin=True),\n",
       " WikiGame(name='LEGO MARVEL: Super Heroes', gapl_id='1140-1', drm='Steam', steam_id=SteamID(type='app', id='249130'), win=True, osx=False, lin=False),\n",
       " WikiGame(name='Scribblenauts Unmasked: A DC Comics Adventure', gapl_id='1201-1', drm='Steam', steam_id=SteamID(type='app', id='249870'), win=True, osx=False, lin=False)]"
      ]
     },
     "execution_count": 40,
     "metadata": {},
     "output_type": "execute_result"
    }
   ],
   "source": [
    "data[:5]"
   ]
  },
  {
   "cell_type": "code",
   "execution_count": 42,
   "metadata": {},
   "outputs": [],
   "source": [
    "gapl_data_s = sorted(data, key=lambda tup: tup[0])"
   ]
  },
  {
   "cell_type": "code",
   "execution_count": 43,
   "metadata": {},
   "outputs": [
    {
     "data": {
      "text/plain": [
       "[WikiGame(name='.hack//G.U. Last Recode', gapl_id='3450-1', drm='Steam', steam_id=SteamID(type='app', id='525480'), win=True, osx=False, lin=False),\n",
       " WikiGame(name='10 Second Ninja X', gapl_id='3362-1', drm='Steam', steam_id=SteamID(type='app', id='435790'), win=True, osx=False, lin=False),\n",
       " WikiGame(name='11-11 Memories Retold', gapl_id='3853-1', drm='Steam', steam_id=SteamID(type='app', id='735580'), win=True, osx=False, lin=False),\n",
       " WikiGame(name='15 Days', gapl_id='1823-1', drm='Steam', steam_id=SteamID(type='app', id='342990'), win=True, osx=False, lin=False),\n",
       " WikiGame(name='1943 Deadly Desert', gapl_id='3874-1', drm='Steam', steam_id=SteamID(type='app', id='616750'), win=True, osx=False, lin=False)]"
      ]
     },
     "execution_count": 43,
     "metadata": {},
     "output_type": "execute_result"
    }
   ],
   "source": [
    "gapl_data_s[:5]"
   ]
  }
 ],
 "metadata": {
  "kernelspec": {
   "display_name": "Python 3",
   "language": "python",
   "name": "python3"
  },
  "language_info": {
   "codemirror_mode": {
    "name": "ipython",
    "version": 3
   },
   "file_extension": ".py",
   "mimetype": "text/x-python",
   "name": "python",
   "nbconvert_exporter": "python",
   "pygments_lexer": "ipython3",
   "version": "3.7.2"
  }
 },
 "nbformat": 4,
 "nbformat_minor": 2
}
