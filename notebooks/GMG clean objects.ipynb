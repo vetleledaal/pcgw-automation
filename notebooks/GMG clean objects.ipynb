{
 "cells": [
  {
   "cell_type": "code",
   "execution_count": 1,
   "metadata": {},
   "outputs": [],
   "source": [
    "import pickle\n",
    "feed_products = pickle.load(open('../data_gmg/gmg_feed_products.p', 'rb'))\n",
    "sitemap_ids = pickle.load(open('../data_gmg/gmg_sitemap_ids.p', 'rb'))"
   ]
  },
  {
   "cell_type": "code",
   "execution_count": 2,
   "metadata": {},
   "outputs": [],
   "source": [
    "valid_products = {}\n",
    "for product_id, product in feed_products.items():\n",
    "    if product_id in sitemap_ids:\n",
    "        valid_products[product_id] = product\n",
    "for product_id in sitemap_ids:\n",
    "    if product_id not in valid_products:\n",
    "        valid_products[product_id] = {\n",
    "            'id': product_id,\n",
    "            'name': None,\n",
    "            'developer': None,\n",
    "            'publisher': None,\n",
    "            'drm': None,\n",
    "            'steam_id': None,\n",
    "            'regions': [],\n",
    "        }"
   ]
  },
  {
   "cell_type": "code",
   "execution_count": 3,
   "metadata": {},
   "outputs": [],
   "source": [
    "missing_data = []\n",
    "for p_id, p in valid_products.items():\n",
    "    if p['name'] is None:\n",
    "        missing_data.append(p_id)"
   ]
  },
  {
   "cell_type": "code",
   "execution_count": 4,
   "metadata": {},
   "outputs": [
    {
     "data": {
      "text/plain": [
       "['xcom-2-war-of-the-chosen-tactical-legacy-pack',\n",
       " 'the-i-of-the-dragon-pc',\n",
       " 'meawja-pc',\n",
       " 'the-colonists-pc',\n",
       " 'superhot-vr-1']"
      ]
     },
     "execution_count": 4,
     "metadata": {},
     "output_type": "execute_result"
    }
   ],
   "source": [
    "len(missing_data)\n",
    "missing_data[:5]"
   ]
  },
  {
   "cell_type": "code",
   "execution_count": 5,
   "metadata": {},
   "outputs": [
    {
     "data": {
      "text/plain": [
       "7555"
      ]
     },
     "execution_count": 5,
     "metadata": {},
     "output_type": "execute_result"
    }
   ],
   "source": [
    "len(valid_products)"
   ]
  },
  {
   "cell_type": "code",
   "execution_count": 6,
   "metadata": {
    "scrolled": true
   },
   "outputs": [
    {
     "name": "stdout",
     "output_type": "stream",
     "text": [
      "mafia-triple-pack-pc\n",
      "{'id': 'mafia-triple-pack-pc', 'name': 'Mafia Triple Pack', 'developer': 'Hangar 13', 'publisher': '2K', 'drm': 'Steam', 'steam_id': '5433', 'regions': ['USD', 'GBP', 'EUR']}\n",
      "sid-meiers-starships-beyond-earth-bundle\n",
      "{'id': 'sid-meiers-starships-beyond-earth-bundle', 'name': \"Sid Meier's Starships & Beyond Earth Bundle\", 'developer': 'Firaxis', 'publisher': '2K Games', 'drm': 'Steam', 'steam_id': None, 'regions': ['USD', 'GBP', 'EUR']}\n",
      "sid-meiers-railroads\n",
      "{'id': 'sid-meiers-railroads', 'name': \"Sid Meier's Railroads!\", 'developer': 'Firaxis', 'publisher': '2K Games', 'drm': 'Steam', 'steam_id': '7600', 'regions': ['USD', 'GBP', 'EUR']}\n",
      "sid-meiers-starships\n",
      "{'id': 'sid-meiers-starships', 'name': \"Sid Meier's Starships\", 'developer': 'Firaxis', 'publisher': '2K Games', 'drm': 'Steam', 'steam_id': '282210', 'regions': ['USD', 'GBP', 'EUR']}\n",
      "nba-2k17-ps4\n",
      "{'id': 'nba-2k17-ps4', 'name': 'NBA 2K17 - PS4', 'developer': 'Visual Concepts', 'publisher': '2K Games', 'drm': 'PSN', 'steam_id': None, 'regions': ['USD', 'GBP', 'EUR']}\n"
     ]
    }
   ],
   "source": [
    "count = 0\n",
    "for p_id, p in valid_products.items():\n",
    "    print(p_id, p, sep='\\n')\n",
    "    count += 1\n",
    "    if count == 5:\n",
    "        break"
   ]
  },
  {
   "cell_type": "code",
   "execution_count": 7,
   "metadata": {},
   "outputs": [
    {
     "data": {
      "text/plain": [
       "4790"
      ]
     },
     "execution_count": 7,
     "metadata": {},
     "output_type": "execute_result"
    }
   ],
   "source": [
    "sum(p['drm'] == 'Steam' for p in valid_products.values())"
   ]
  },
  {
   "cell_type": "code",
   "execution_count": 8,
   "metadata": {},
   "outputs": [
    {
     "data": {
      "text/plain": [
       "['Steam',\n",
       " 'Playfire',\n",
       " None,\n",
       " 'Other DRM',\n",
       " 'New Uplay',\n",
       " 'Other',\n",
       " 'Rockstar Social Club',\n",
       " 'Gift Cards',\n",
       " 'Securom',\n",
       " 'Uplay',\n",
       " 'MogStation',\n",
       " 'Eve Online',\n",
       " 'PSN',\n",
       " 'TESO']"
      ]
     },
     "execution_count": 8,
     "metadata": {},
     "output_type": "execute_result"
    }
   ],
   "source": [
    "drms = list(set(x['drm'] for x in valid_products.values()))\n",
    "drms"
   ]
  },
  {
   "cell_type": "code",
   "execution_count": 9,
   "metadata": {},
   "outputs": [
    {
     "data": {
      "text/plain": [
       "[{'id': 'final-fantasy-xi-ultimate-collection-seekers-edition',\n",
       "  'name': 'FINAL FANTASY XI Ultimate Collection: Seekers Edition',\n",
       "  'developer': 'Square Enix',\n",
       "  'publisher': 'Square Enix',\n",
       "  'drm': 'MogStation',\n",
       "  'steam_id': '39260',\n",
       "  'regions': ['USD', 'GBP', 'EUR']},\n",
       " {'id': 'final-fantasy-xi-seekers-of-adoulin',\n",
       "  'name': 'FINAL FANTASY XI: Seekers of Adoulin',\n",
       "  'developer': 'Square Enix',\n",
       "  'publisher': 'Square Enix',\n",
       "  'drm': 'MogStation',\n",
       "  'steam_id': None,\n",
       "  'regions': ['USD', 'GBP', 'EUR']},\n",
       " {'id': 'final-fantasy-xiv-stormblood',\n",
       "  'name': 'FINAL FANTASY® XIV: Stormblood™',\n",
       "  'developer': 'Square Enix',\n",
       "  'publisher': 'Square Enix',\n",
       "  'drm': 'MogStation',\n",
       "  'steam_id': '582380',\n",
       "  'regions': ['USD', 'GBP', 'EUR']},\n",
       " {'id': 'final-fantasy-xiv-stormblood-mac',\n",
       "  'name': 'FINAL FANTASY® XIV: Stormblood™ (MAC)',\n",
       "  'developer': 'Square Enix',\n",
       "  'publisher': 'Square Enix',\n",
       "  'drm': 'MogStation',\n",
       "  'steam_id': None,\n",
       "  'regions': ['USD', 'GBP', 'EUR']},\n",
       " {'id': 'final-fantasy-xiv-stormblood-collectors-edition',\n",
       "  'name': \"FINAL FANTASY® XIV: Stormblood™ - DIGITAL COLLECTOR'S EDITION\",\n",
       "  'developer': 'Square Enix',\n",
       "  'publisher': 'Square Enix',\n",
       "  'drm': 'MogStation',\n",
       "  'steam_id': None,\n",
       "  'regions': ['USD', 'GBP', 'EUR']}]"
      ]
     },
     "execution_count": 9,
     "metadata": {},
     "output_type": "execute_result"
    }
   ],
   "source": [
    "p_mog = [p for p in valid_products.values() if p['drm'] == 'MogStation']\n",
    "p_mog[:5]"
   ]
  }
 ],
 "metadata": {
  "kernelspec": {
   "display_name": "Python 3",
   "language": "python",
   "name": "python3"
  },
  "language_info": {
   "codemirror_mode": {
    "name": "ipython",
    "version": 3
   },
   "file_extension": ".py",
   "mimetype": "text/x-python",
   "name": "python",
   "nbconvert_exporter": "python",
   "pygments_lexer": "ipython3",
   "version": "3.7.2"
  }
 },
 "nbformat": 4,
 "nbformat_minor": 2
}
