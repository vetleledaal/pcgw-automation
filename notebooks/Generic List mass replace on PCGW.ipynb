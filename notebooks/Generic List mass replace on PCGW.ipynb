{
 "cells": [
  {
   "cell_type": "code",
   "execution_count": 34,
   "metadata": {},
   "outputs": [
    {
     "name": "stdout",
     "output_type": "stream",
     "text": [
      "Set Hitman 2 to \"OwO OwO is the successor to another game\"\n",
      "Set Doom (2016) to \"OwO remade with modern tech\"\n",
      "{'page_not_found': ['fdosfj', 'ssg']}\n"
     ]
    }
   ],
   "source": [
    "import re\n",
    "PATTERN_FIND = re.compile(r'\\b[A-Z]\\S*|\\d')\n",
    "REPLACE_WITH = 'OwO'\n",
    "EXPECTED_CHANGES_PER_PAGE = 0\n",
    "\n",
    "GAME_LIST_FILE = 'games.txt'\n",
    "\n",
    "#with open(GAME_LIST_FILE) as f:\n",
    "#    GAME_LIST = f.read().splitlines()\n",
    "GAME_LIST = ['Hitman 2', 'Doom (2016)', 'fdosfj', 'ssg']\n",
    "\n",
    "def get_text(game_title):\n",
    "    from time import sleep\n",
    "    sleep(0.5)\n",
    "    if game_title == 'Hitman 2':\n",
    "        return 'Hitman 2 is the successor to another game'\n",
    "    elif game_title == 'Doom (2016)':\n",
    "        return 'Doom remade with modern tech'\n",
    "    else:\n",
    "        return ''\n",
    "    \n",
    "def set_text(page, content):\n",
    "    print(f'Set {page} to \"{content}\"')\n",
    "\n",
    "bad_pages = {}\n",
    "for game_title in GAME_LIST:\n",
    "    page_content = get_text(game_title)\n",
    "    \n",
    "    # Page doesn't exist\n",
    "    if page_content == '':\n",
    "        bad_pages.setdefault('page_not_found', []).append(game_title)\n",
    "        continue\n",
    "\n",
    "    # Apply all replacements\n",
    "    page_content_new, count = re.subn(PATTERN_FIND, REPLACE_WITH, page_content)\n",
    "    \n",
    "    # Unexpected amount of changes\n",
    "    if EXPECTED_CHANGES_PER_PAGE != 0 and count != EXPECTED_CHANGES_PER_PAGE:\n",
    "        bad_pages.setdefault('unexpected_count', []).append((count, game_title))\n",
    "        continue\n",
    "    \n",
    "    # Commit changes\n",
    "    set_text(game_title, page_content_new)\n",
    "\n",
    "print(bad_pages)"
   ]
  },
  {
   "cell_type": "code",
   "execution_count": 35,
   "metadata": {},
   "outputs": [
    {
     "data": {
      "text/plain": [
       "0"
      ]
     },
     "execution_count": 35,
     "metadata": {},
     "output_type": "execute_result"
    }
   ],
   "source": [
    "re.subn(r'[!]', '5', \"This is my number: 5983\")[1]"
   ]
  },
  {
   "cell_type": "code",
   "execution_count": 41,
   "metadata": {},
   "outputs": [],
   "source": [
    "import os\n",
    "\n",
    "os.environ['PYWIKIBOT2_DIR'] = '../private/'\n",
    "import pywikibot\n",
    "\n",
    "site = pywikibot.Site('PCGW')\n",
    "    "
   ]
  },
  {
   "cell_type": "code",
   "execution_count": 127,
   "metadata": {},
   "outputs": [],
   "source": [
    "page = pywikibot.Page(site, 'Series:Pokémon')"
   ]
  },
  {
   "cell_type": "code",
   "execution_count": 131,
   "metadata": {},
   "outputs": [
    {
     "data": {
      "text/plain": [
       "'{{Seriesbox|title=Pokémon|entries=\\n{{Seriesbox/row|[[Pokémon Project Studio]]|1999}}\\n{{Seriesbox/row|[[Pokémon Play It!]]|1999}}\\n{{Seriesbox/row|[[Pokémon Play It! Version 2]]|2000}}\\n{{Seriesbox/row|[[Pokémon Masters Arena]]|2004}}\\n{{Seriesbox/row|[[Pokémon Team Turbo]]|2005}}\\n}}<noinclude>[[Category:Series]]</noinclude>'"
      ]
     },
     "execution_count": 131,
     "metadata": {},
     "output_type": "execute_result"
    }
   ],
   "source": [
    "page.text"
   ]
  },
  {
   "cell_type": "code",
   "execution_count": 116,
   "metadata": {},
   "outputs": [],
   "source": [
    "class Patterns(object):\n",
    "\tdef __init__(self, patterns):\n",
    "\t\tself.patterns = patterns\n",
    "\t\n",
    "\tdef __iter__(self):\n",
    "\t\tself.n = 0\n",
    "\t\treturn self\n",
    "\t\n",
    "\tdef __next__(self):\n",
    "\t\tif self.n < len(self.patterns):\n",
    "\t\t\tn = self.patterns[self.n]\n",
    "\t\t\tself.n += 1\n",
    "\t\t\treturn (\n",
    "\t\t\t\tn[0],\n",
    "\t\t\t\tn[1],\n",
    "\t\t\t\tn[2] if 2 < len(n) else 0,\n",
    "\t\t\t\tn[3] if 3 < len(n) else 0,\n",
    "\t\t\t)\n",
    "\t\telse:\n",
    "\t\t\traise StopIteration"
   ]
  },
  {
   "cell_type": "code",
   "execution_count": 117,
   "metadata": {},
   "outputs": [],
   "source": [
    "PATTERNS = (\n",
    "\t# find, replacement = '', expected occurences = 0, flags = 0\n",
    "\t(r'fin(d)', 'replace \\1', 1),\n",
    "\t(r'\\w', '8', 0, re.IGNORECASE)\n",
    ")"
   ]
  },
  {
   "cell_type": "code",
   "execution_count": 118,
   "metadata": {},
   "outputs": [],
   "source": [
    "b = Patterns(PATTERNS)"
   ]
  },
  {
   "cell_type": "code",
   "execution_count": 122,
   "metadata": {},
   "outputs": [
    {
     "name": "stdout",
     "output_type": "stream",
     "text": [
      "ff\n"
     ]
    }
   ],
   "source": [
    "reason = ''\n",
    "if reason is not None:\n",
    "    print('ff')"
   ]
  }
 ],
 "metadata": {
  "kernelspec": {
   "display_name": "Python 3",
   "language": "python",
   "name": "python3"
  },
  "language_info": {
   "codemirror_mode": {
    "name": "ipython",
    "version": 3
   },
   "file_extension": ".py",
   "mimetype": "text/x-python",
   "name": "python",
   "nbconvert_exporter": "python",
   "pygments_lexer": "ipython3",
   "version": "3.7.2"
  }
 },
 "nbformat": 4,
 "nbformat_minor": 2
}
