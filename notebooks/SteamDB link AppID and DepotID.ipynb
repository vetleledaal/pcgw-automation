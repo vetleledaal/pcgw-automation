{
 "cells": [
  {
   "cell_type": "code",
   "execution_count": 1,
   "metadata": {},
   "outputs": [],
   "source": [
    "import MySQLdb\n",
    "import json\n",
    "from datetime import datetime\n",
    "with open('../private/mysql_passwd', 'r') as f:\n",
    "    mysql_passwd = f.readline().rstrip()\n",
    "db = MySQLdb.connect(user='root', passwd=mysql_passwd, db='steamdb2')"
   ]
  },
  {
   "cell_type": "code",
   "execution_count": 2,
   "metadata": {},
   "outputs": [],
   "source": [
    "def is_int_ish(text):\n",
    "    try:\n",
    "        int(text)\n",
    "        return True\n",
    "    except ValueError:\n",
    "        False"
   ]
  },
  {
   "cell_type": "code",
   "execution_count": 3,
   "metadata": {},
   "outputs": [],
   "source": [
    "last_appid = 0\n",
    "depotid_appid_mapping = {}\n",
    "rows_returned = 1\n",
    "c = db.cursor()\n",
    "\n",
    "while rows_returned > 0:    \n",
    "    rows_returned = c.execute('''\n",
    "        SELECT `AppID`, `Value` FROM `appsinfo` WHERE `Key` = 51 AND `AppID` > %s LIMIT 1000\n",
    "    ''', (last_appid,))\n",
    "    \n",
    "    for appid, data_string in c:\n",
    "        try:\n",
    "            data = json.loads(data_string)\n",
    "        except ValueError:\n",
    "            print('Failed to load JSON for AppID %d' % appid)\n",
    "        else:\n",
    "            depots = [i for i in data.keys() if is_int_ish(i)]\n",
    "            if depots:\n",
    "                depotid_appid_mapping[appid] = depots\n",
    "    last_appid = appid"
   ]
  },
  {
   "cell_type": "code",
   "execution_count": 4,
   "metadata": {},
   "outputs": [
    {
     "data": {
      "text/plain": [
       "38272"
      ]
     },
     "execution_count": 4,
     "metadata": {},
     "output_type": "execute_result"
    }
   ],
   "source": [
    "len(depotid_appid_mapping)"
   ]
  },
  {
   "cell_type": "raw",
   "metadata": {},
   "source": [
    "c.execute('''\n",
    "CREATE TABLE `tmp_app_depot_map` (\n",
    "    `ID` INT(9) UNSIGNED NOT NULL AUTO_INCREMENT,\n",
    "    `AppID` INT(9) UNSIGNED NOT NULL,\n",
    "    `DepotID` INT(9) UNSIGNED NOT NULL,\n",
    "    PRIMARY KEY (`ID`)\n",
    ")\n",
    "'COLLATE='utf8mb4_unicode_ci'\n",
    "ENGINE=InnoDB;\n",
    "''')\n",
    "db.commit()"
   ]
  },
  {
   "cell_type": "raw",
   "metadata": {},
   "source": [
    "for appid, depotids in depotid_appid_mapping.items():\n",
    "    if not depotids:\n",
    "        continue\n",
    "    query_values = ''\n",
    "    for depotid in depotids:\n",
    "        query_values += '(%s,%s),' % (appid, depotid)\n",
    "    query_values = query_values[:-1] + ';'\n",
    "    c.execute('''\n",
    "        INSERT INTO `tmp_app_depot_map` (`AppID`, `DepotID`)\n",
    "        VALUES %s\n",
    "    ''' % query_values)\n",
    "db.commit()"
   ]
  }
 ],
 "metadata": {
  "kernelspec": {
   "display_name": "Python 3",
   "language": "python",
   "name": "python3"
  },
  "language_info": {
   "codemirror_mode": {
    "name": "ipython",
    "version": 3
   },
   "file_extension": ".py",
   "mimetype": "text/x-python",
   "name": "python",
   "nbconvert_exporter": "python",
   "pygments_lexer": "ipython3",
   "version": "3.7.2"
  }
 },
 "nbformat": 4,
 "nbformat_minor": 2
}
