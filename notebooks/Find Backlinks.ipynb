{
 "cells": [
  {
   "cell_type": "code",
   "execution_count": 12,
   "metadata": {},
   "outputs": [],
   "source": [
    "import requests\n",
    "import json\n",
    "headers = {\n",
    "    'User-Agent': 'VetleBot/0.1'\n",
    "}"
   ]
  },
  {
   "cell_type": "code",
   "execution_count": 25,
   "metadata": {},
   "outputs": [],
   "source": [
    "all_backlinks = set()"
   ]
  },
  {
   "cell_type": "code",
   "execution_count": 26,
   "metadata": {},
   "outputs": [
    {
     "name": "stdout",
     "output_type": "stream",
     "text": [
      "324/324\r"
     ]
    }
   ],
   "source": [
    "with open('../data_pcgw/images_missing.txt', encoding='utf8') as f:\n",
    "    page_titles = [l.rstrip() for l in f]\n",
    "\n",
    "i = 0\n",
    "for page_title in page_titles:    \n",
    "    params = {\n",
    "        'action': 'query',\n",
    "        'list': 'backlinks',\n",
    "        'bltitle': page_title,\n",
    "        'format': 'json',\n",
    "    }\n",
    "    r = requests.get('https://pcgamingwiki.com/w/api.php', headers=headers, params=params)\n",
    "    json_data = json.loads(r.text)\n",
    "    backlinks = json_data.get('query', []).get('backlinks', [])\n",
    "    for backlink in backlinks:\n",
    "        a_link = backlink.get('title', None)\n",
    "        if a_link:\n",
    "            all_backlinks.add(a_link)\n",
    "    \n",
    "    print(f'{i + 1}/{len(page_titles)}', end='\\r')\n",
    "    i += 1"
   ]
  },
  {
   "cell_type": "code",
   "execution_count": 27,
   "metadata": {},
   "outputs": [
    {
     "data": {
      "text/plain": [
       "238"
      ]
     },
     "execution_count": 27,
     "metadata": {},
     "output_type": "execute_result"
    }
   ],
   "source": [
    "len(all_backlinks)"
   ]
  },
  {
   "cell_type": "code",
   "execution_count": 29,
   "metadata": {},
   "outputs": [],
   "source": [
    "import pickle\n",
    "pickle.dump(all_backlinks, open('../data_pcgw/missing_backlinks.p', 'wb'))\n",
    "with open('../data_pcgw/missing_backlinks.txt', 'w', encoding='utf-8') as f:\n",
    "    for item in all_backlinks:\n",
    "        f.write('%s\\n' % item)"
   ]
  }
 ],
 "metadata": {
  "kernelspec": {
   "display_name": "Python 3",
   "language": "python",
   "name": "python3"
  },
  "language_info": {
   "codemirror_mode": {
    "name": "ipython",
    "version": 3
   },
   "file_extension": ".py",
   "mimetype": "text/x-python",
   "name": "python",
   "nbconvert_exporter": "python",
   "pygments_lexer": "ipython3",
   "version": "3.7.2"
  }
 },
 "nbformat": 4,
 "nbformat_minor": 2
}
