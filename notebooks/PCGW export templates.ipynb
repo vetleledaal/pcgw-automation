{
 "cells": [
  {
   "cell_type": "code",
   "execution_count": 1,
   "metadata": {},
   "outputs": [],
   "source": [
    "headers = {\n",
    "    'User-Agent': 'VetleBot/0.1'\n",
    "}\n",
    "\n",
    "import re\n",
    "PATTERN_PAGE_LINK = re.compile(r'^(?:<ul>)?<li><a href=\"\\/wiki\\/[^\"]+\" title=\"[^\"]+\">([^<]+)<\\/a><\\/li>', re.MULTILINE)\n",
    "PATTERN_NEXT_PAGE = re.compile(r'<a href=\"([^\"]+)\"[^>]*>Next page')"
   ]
  },
  {
   "cell_type": "code",
   "execution_count": 2,
   "metadata": {},
   "outputs": [],
   "source": [
    "# Get the first list of pages\n",
    "import requests\n",
    "# Note: only *that* namespace\n",
    "r = requests.get('https://pcgamingwiki.com/wiki/Special:AllPages?from=&to=&namespace=10', headers=headers)\n",
    "done_processing = False\n",
    "all_pages = []\n",
    "\n",
    "import html\n",
    "while done_processing is False:\n",
    "    # Extract pages from list of pages\n",
    "    pages = re.findall(PATTERN_PAGE_LINK, r.text)\n",
    "\n",
    "    # Clean HTML entities\n",
    "    pages = [html.unescape(page) for page in pages]\n",
    "    \n",
    "    # Append pages found to list\n",
    "    all_pages += pages\n",
    "    done_processing = True\n",
    "\n",
    "    # Get the next list of pages page, if it exists\n",
    "    m = re.search(PATTERN_NEXT_PAGE, r.text)\n",
    "    if m is not None:\n",
    "        # Clean it\n",
    "        url = html.unescape(m.group(1))\n",
    "        \n",
    "        # Add prefix, if needed\n",
    "        url = 'https://pcgamingwiki.com' + url if url[0] == '/' else url\n",
    "        \n",
    "        # Make request\n",
    "        r = requests.get(url, headers=headers)\n",
    "        done_processing = False"
   ]
  },
  {
   "cell_type": "code",
   "execution_count": 3,
   "metadata": {},
   "outputs": [
    {
     "data": {
      "text/plain": [
       "302"
      ]
     },
     "execution_count": 3,
     "metadata": {},
     "output_type": "execute_result"
    }
   ],
   "source": [
    "len(all_pages)"
   ]
  },
  {
   "cell_type": "code",
   "execution_count": 4,
   "metadata": {},
   "outputs": [],
   "source": [
    "# Make unique\n",
    "all_pages = list(set(all_pages))\n",
    "all_pages.sort() # for predictability"
   ]
  },
  {
   "cell_type": "code",
   "execution_count": 5,
   "metadata": {
    "scrolled": true
   },
   "outputs": [
    {
     "name": "stdout",
     "output_type": "stream",
     "text": [
      "302\n"
     ]
    }
   ],
   "source": [
    "print(len(all_pages))\n",
    "all_images = {}"
   ]
  },
  {
   "cell_type": "code",
   "execution_count": 24,
   "metadata": {},
   "outputs": [
    {
     "data": {
      "text/plain": [
       "'Series:101 Dalmatians'"
      ]
     },
     "execution_count": 24,
     "metadata": {},
     "output_type": "execute_result"
    }
   ],
   "source": [
    "all_pages[1]"
   ]
  },
  {
   "cell_type": "code",
   "execution_count": 6,
   "metadata": {},
   "outputs": [],
   "source": [
    "# Export in batches of 5000\n",
    "import math\n",
    "batches = math.ceil(len(all_pages) / 5000)\n",
    "url = 'https://pcgamingwiki.com/wiki/Special:Export'\n",
    "export_dir = '../data_pcgw'\n",
    "\n",
    "import os\n",
    "if not os.path.exists(export_dir):\n",
    "    os.makedirs(export_dir)\n",
    "    \n",
    "# Remove old exported files\n",
    "#import glob\n",
    "#for file in glob.glob(os.path.join(export_dir, '*')):\n",
    "#    os.remove(file)\n",
    "\n",
    "for i in range(batches):\n",
    "    pages = all_pages[i * 5000 : i * 5000 + 5000]\n",
    "    pages_crnl = '\\r\\n'.join(pages)\n",
    "\n",
    "    data = {\n",
    "        'catname': '',\n",
    "        'pages': pages_crnl,\n",
    "        'curonly': '1',\n",
    "        'wpDownload': '1',\n",
    "        'wpEditToken': '+\\\\',\n",
    "        'title': 'Special:Export',\n",
    "    }\n",
    "\n",
    "    r = requests.post(url, data=data, headers=headers, stream=True)\n",
    "    filename = 'pcgw_templates_%d.xml' % (i + 1)\n",
    "\n",
    "    with open(os.path.join(export_dir, filename), 'wb') as f:\n",
    "        for chunk in r.iter_content(chunk_size=1024):\n",
    "            if chunk:\n",
    "                f.write(chunk)"
   ]
  }
 ],
 "metadata": {
  "kernelspec": {
   "display_name": "Python 3",
   "language": "python",
   "name": "python3"
  },
  "language_info": {
   "codemirror_mode": {
    "name": "ipython",
    "version": 3
   },
   "file_extension": ".py",
   "mimetype": "text/x-python",
   "name": "python",
   "nbconvert_exporter": "python",
   "pygments_lexer": "ipython3",
   "version": "3.7.2"
  }
 },
 "nbformat": 4,
 "nbformat_minor": 2
}
