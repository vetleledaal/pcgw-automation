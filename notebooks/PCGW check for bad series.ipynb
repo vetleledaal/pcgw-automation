{
 "cells": [
  {
   "cell_type": "code",
   "execution_count": 1,
   "metadata": {},
   "outputs": [],
   "source": [
    "import xml.etree.ElementTree as ET\n",
    "# https://www.greenmangaming.com/robots.txt\n",
    "# > Sitemap: https://www.greenmangaming.com/Sitemap.xml\n",
    "tree = ET.parse('../data_pcgw/pcgw_series_1.xml')\n",
    "root = tree.getroot()\n",
    "ns = {'mw': 'http://www.mediawiki.org/xml/export-0.10/'}\n"
   ]
  },
  {
   "cell_type": "code",
   "execution_count": 24,
   "metadata": {},
   "outputs": [],
   "source": [
    "bad_pages = []\n",
    "for page in root.findall('mw:page', ns):\n",
    "    page_title = page.find('mw:title', ns).text\n",
    "    page_contents = page.find('mw:revision', ns).find('mw:text', ns).text\n",
    "    if '{{Series/ask}}' not in page_contents:\n",
    "        bad_pages.append(page_title)"
   ]
  },
  {
   "cell_type": "code",
   "execution_count": 27,
   "metadata": {},
   "outputs": [
    {
     "name": "stdout",
     "output_type": "stream",
     "text": [
      "Development:Seriesbox/sandbox\n",
      "Series:Emil i Lönneberga\n",
      "Series:Game\n",
      "Series:Pokémon\n",
      "Series:RINGOӘͶIЯ\n",
      "Series:Star Wolves\n",
      "Series:Zombie Driver\n",
      "Series:ÜberSoldier\n"
     ]
    }
   ],
   "source": [
    "for page in bad_pages:\n",
    "    print(page)"
   ]
  }
 ],
 "metadata": {
  "kernelspec": {
   "display_name": "Python 3",
   "language": "python",
   "name": "python3"
  },
  "language_info": {
   "codemirror_mode": {
    "name": "ipython",
    "version": 3
   },
   "file_extension": ".py",
   "mimetype": "text/x-python",
   "name": "python",
   "nbconvert_exporter": "python",
   "pygments_lexer": "ipython3",
   "version": "3.7.2"
  }
 },
 "nbformat": 4,
 "nbformat_minor": 2
}
