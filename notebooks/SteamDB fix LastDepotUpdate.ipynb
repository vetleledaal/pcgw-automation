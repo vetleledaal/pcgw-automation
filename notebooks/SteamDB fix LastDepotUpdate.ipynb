{
 "cells": [
  {
   "cell_type": "code",
   "execution_count": 1,
   "metadata": {},
   "outputs": [],
   "source": [
    "import MySQLdb\n",
    "import json\n",
    "with open('../private/mysql_passwd', 'r') as f:\n",
    "    mysql_passwd = f.readline().rstrip()\n",
    "db = MySQLdb.connect(user='root', passwd=mysql_passwd, db='steamdb2')"
   ]
  },
  {
   "cell_type": "code",
   "execution_count": 2,
   "metadata": {},
   "outputs": [],
   "source": [
    "last_appid = 0\n",
    "last_updated_data = {}\n",
    "rows_returned = 1\n",
    "c = db.cursor()\n",
    "\n",
    "while rows_returned > 0:    \n",
    "    rows_returned = c.execute('''\n",
    "        SELECT `AppID`, `Value` FROM `appsinfo` WHERE `Key` = 51 AND `AppID` > %s LIMIT 1000\n",
    "    ''', (last_appid,))\n",
    "    \n",
    "    for appid, data_string in c:\n",
    "        try:\n",
    "            data = json.loads(data_string)\n",
    "        except ValueError:\n",
    "            print('Failed to load JSON for AppID %d' % appid)\n",
    "        else:\n",
    "            timestamp = data.get('branches', {}).get('public', {}).get('timeupdated', None)\n",
    "            if timestamp:\n",
    "                last_updated_data[appid] = int(timestamp)\n",
    "    last_appid = appid"
   ]
  },
  {
   "cell_type": "code",
   "execution_count": 3,
   "metadata": {},
   "outputs": [
    {
     "data": {
      "text/plain": [
       "28283"
      ]
     },
     "execution_count": 3,
     "metadata": {},
     "output_type": "execute_result"
    }
   ],
   "source": [
    "len(last_updated_data)"
   ]
  },
  {
   "cell_type": "raw",
   "metadata": {},
   "source": [
    "for appid, timestamp in last_updated_data.items():\n",
    "    c.execute('''\n",
    "        UPDATE `apps` SET `LastDepotUpdate` = %s WHERE `AppID` = %s\n",
    "    ''', (datetime.fromtimestamp(timestamp).strftime('%Y-%m-%d %H:%M:%S'), appid))\n",
    "db.commit()"
   ]
  }
 ],
 "metadata": {
  "kernelspec": {
   "display_name": "Python 3",
   "language": "python",
   "name": "python3"
  },
  "language_info": {
   "codemirror_mode": {
    "name": "ipython",
    "version": 3
   },
   "file_extension": ".py",
   "mimetype": "text/x-python",
   "name": "python",
   "nbconvert_exporter": "python",
   "pygments_lexer": "ipython3",
   "version": "3.7.2"
  }
 },
 "nbformat": 4,
 "nbformat_minor": 2
}
